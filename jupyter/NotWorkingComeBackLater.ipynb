{
 "cells": [
  {
   "cell_type": "code",
   "execution_count": 1,
   "metadata": {},
   "outputs": [],
   "source": [
    "# Creating a custom dataset for Pytorch"
   ]
  },
  {
   "cell_type": "code",
   "execution_count": 1,
   "metadata": {},
   "outputs": [
    {
     "ename": "ModuleNotFoundError",
     "evalue": "No module named 'dl_toolbox'",
     "output_type": "error",
     "traceback": [
      "\u001b[0;31m---------------------------------------------------------------------------\u001b[0m",
      "\u001b[0;31mModuleNotFoundError\u001b[0m                       Traceback (most recent call last)",
      "\u001b[0;32m<ipython-input-1-15476270cf17>\u001b[0m in \u001b[0;36m<module>\u001b[0;34m\u001b[0m\n\u001b[1;32m      9\u001b[0m \u001b[0;32mfrom\u001b[0m \u001b[0mtorchvision\u001b[0m \u001b[0;32mimport\u001b[0m \u001b[0mdatasets\u001b[0m\u001b[0;34m,\u001b[0m \u001b[0mtransforms\u001b[0m\u001b[0;34m\u001b[0m\u001b[0;34m\u001b[0m\u001b[0m\n\u001b[1;32m     10\u001b[0m \u001b[0;32mfrom\u001b[0m \u001b[0mtorch\u001b[0m\u001b[0;34m.\u001b[0m\u001b[0mutils\u001b[0m\u001b[0;34m.\u001b[0m\u001b[0mdata\u001b[0m \u001b[0;32mimport\u001b[0m \u001b[0mDataset\u001b[0m\u001b[0;34m\u001b[0m\u001b[0;34m\u001b[0m\u001b[0m\n\u001b[0;32m---> 11\u001b[0;31m \u001b[0;32mfrom\u001b[0m \u001b[0mdl_toolbox\u001b[0m\u001b[0;34m.\u001b[0m\u001b[0maugmentations\u001b[0m \u001b[0;32mimport\u001b[0m \u001b[0mget_transforms\u001b[0m\u001b[0;34m\u001b[0m\u001b[0;34m\u001b[0m\u001b[0m\n\u001b[0m",
      "\u001b[0;31mModuleNotFoundError\u001b[0m: No module named 'dl_toolbox'"
     ]
    }
   ],
   "source": [
    "# Imports\n",
    "#from PIL import Image\n",
    "#from natsort import natsorted\n",
    "import os\n",
    "import rasterio\n",
    "import imagesize\n",
    "import numpy as np\n",
    "from rasterio.windows import Window, bounds, from_bounds\n",
    "from torchvision import datasets, transforms\n",
    "from torch.utils.data import Dataset\n",
    "from dl_toolbox.augmentations import get_transforms"
   ]
  },
  {
   "cell_type": "code",
   "execution_count": 2,
   "metadata": {},
   "outputs": [],
   "source": [
    "import os\n",
    "from itertools import product\n",
    "import rasterio as rio\n",
    "from rasterio import windows\n",
    "\n",
    "def get_tiles(image_path, width=256, height=256):\n",
    "    with rasterio.open(image_path) as ds : \n",
    "        print(type(ds))\n",
    "        nols, nrows = ds.meta['width'], ds.meta['height']\n",
    "        offsets = product(range(0, nols, width), range(0, nrows, height))\n",
    "        big_window = windows.Window(col_off=0, row_off=0, width=nols, height=nrows)\n",
    "        for col_off, row_off in  offsets:\n",
    "            window =windows.Window(col_off=col_off, row_off=row_off, width=width, height=height).intersection(big_window)\n",
    "            yield window\n",
    "            \n",
    "with rio.open(os.path.join(in_path, input_filename)) as inds:\n",
    "    tile_width, tile_height = 256, 256\n",
    "    meta = inds.meta.copy()\n",
    "    for window in get_tiles(inds):\n",
    "        print(window)\n",
    "        meta['transform'] = transform\n",
    "        meta['width'], meta['height'] = window.width, window.height\n",
    "        outpath = os.path.join(out_path,output_filename.format(int(window.col_off), int(window.row_off)))\n",
    "        with rio.open(outpath, 'w', **meta) as outds:\n",
    "            outds.write(inds.read(window=window))"
   ]
  },
  {
   "cell_type": "code",
   "execution_count": 3,
   "metadata": {},
   "outputs": [],
   "source": [
    "# creating aclass called InriaDS, pass the argument Dataset \n",
    "# to allow it to inherit the functionality of the Torch Dataset Class\n",
    "\n",
    "class InriaDS(Dataset):\n",
    "    # definition of the init func to initialize ou variables\n",
    "    def __init__(self, image_path, tile,fixed_crops, img_dim,img_aug = 'no',label_path= None, *args, **kwargs):         \n",
    "        \n",
    "        self.image_path = image_path # base path to InriaDS folder img\n",
    "        self.label_path = label_path # base path to InriaDS folder gt\n",
    "        #self.tif_name = tif_name     # img name\n",
    "        self.tile = tile             # tile off of img and label\n",
    "        self.crop_windows = list(get_tiles(image_path, tile.width, tile.height)) if fixed_crops else None\n",
    "        self.img_dim = img_dim\n",
    "        self.img_aug = get_transforms(img_aug)\n",
    "        \n",
    "    def __len__(self):\n",
    "        return len(self.crop_windows) if self.crop.windows else 1\n",
    "    \n",
    "    def __getitem(self, idx):\n",
    "        \n",
    "        if self.crop_windows :\n",
    "            window = self.crop_windows[idx]\n",
    "        else :\n",
    "            cx = self.tile.col_off + np.random.randint(0, self.tile.width - self.crop_size + 1)\n",
    "            cy = self.tile.row_off + np.random.randint(0, self.tile.width - self.crop_size + 1)\n",
    "            window = Window(cx,cy,self.img_dim,self.img_dim)\n",
    "        \n",
    "        with rasterio.open(self.image_path) as image_file:\n",
    "            image = image_file.read(window= window, out_dtype = np.float32)\n",
    "        image = torch.from_numpy(image).float().contiguous()\n",
    "        \n",
    "        label = None \n",
    "        if self.label_path:\n",
    "            with rasterio.open(self.label_path) as label_file:\n",
    "                label = label_file.read(window= window, out_dtype = np.float32)\n",
    "            label = torch.from_numpy(label).float().contiguous()\n",
    "            \n",
    "        if self.img_aug is None :            \n",
    "            end_image, end_mask = image, label\n",
    "            \n",
    "        return {'orig_image': image, 'orig_mask':label, 'image': end_image, 'window': window, 'mask':end_mask}"
   ]
  },
  {
   "cell_type": "code",
   "execution_count": 8,
   "metadata": {},
   "outputs": [],
   "source": [
    "img_path = 'C:/Users/marie/ML/aerialimagelabeling/NEW2-AerialImageDataset/AerialImageDataset/train/images/austin11.tif'\n",
    "lbl_path = 'C:/Users/marie/ML/aerialimagelabeling/NEW2-AerialImageDataset/AerialImageDataset/train/gt/austin11.tif'\n",
    "\n",
    "def main():\n",
    "    \n",
    "    dataset = InriaDS(image_path = img_path, label_path = lbl_path, tile = Window(col_off=0, row_off=0, width=400, height=400), img_aug = 'no', img_dim = 256, fixed_crops = True)\n",
    "    print(type(dataset))\n",
    "    for data in dataset :\n",
    "        print(data['window'])"
   ]
  },
  {
   "cell_type": "code",
   "execution_count": 9,
   "metadata": {},
   "outputs": [
    {
     "name": "stdout",
     "output_type": "stream",
     "text": [
      "<class 'rasterio.io.DatasetReader'>\n",
      "<class '__main__.InriaDS'>\n"
     ]
    },
    {
     "ename": "NotImplementedError",
     "evalue": "",
     "output_type": "error",
     "traceback": [
      "\u001b[1;31m---------------------------------------------------------------------------\u001b[0m",
      "\u001b[1;31mNotImplementedError\u001b[0m                       Traceback (most recent call last)",
      "Input \u001b[1;32mIn [9]\u001b[0m, in \u001b[0;36m<cell line: 1>\u001b[1;34m()\u001b[0m\n\u001b[0;32m      1\u001b[0m \u001b[38;5;28;01mif\u001b[39;00m \u001b[38;5;18m__name__\u001b[39m \u001b[38;5;241m==\u001b[39m \u001b[38;5;124m'\u001b[39m\u001b[38;5;124m__main__\u001b[39m\u001b[38;5;124m'\u001b[39m:\n\u001b[1;32m----> 2\u001b[0m     \u001b[43mmain\u001b[49m\u001b[43m(\u001b[49m\u001b[43m)\u001b[49m\n",
      "Input \u001b[1;32mIn [8]\u001b[0m, in \u001b[0;36mmain\u001b[1;34m()\u001b[0m\n\u001b[0;32m      6\u001b[0m dataset \u001b[38;5;241m=\u001b[39m InriaDS(image_path \u001b[38;5;241m=\u001b[39m img_path, label_path \u001b[38;5;241m=\u001b[39m lbl_path, tile \u001b[38;5;241m=\u001b[39m Window(col_off\u001b[38;5;241m=\u001b[39m\u001b[38;5;241m0\u001b[39m, row_off\u001b[38;5;241m=\u001b[39m\u001b[38;5;241m0\u001b[39m, width\u001b[38;5;241m=\u001b[39m\u001b[38;5;241m400\u001b[39m, height\u001b[38;5;241m=\u001b[39m\u001b[38;5;241m400\u001b[39m), img_aug \u001b[38;5;241m=\u001b[39m \u001b[38;5;124m'\u001b[39m\u001b[38;5;124mno\u001b[39m\u001b[38;5;124m'\u001b[39m, img_dim \u001b[38;5;241m=\u001b[39m \u001b[38;5;241m256\u001b[39m, fixed_crops \u001b[38;5;241m=\u001b[39m \u001b[38;5;28;01mTrue\u001b[39;00m)\n\u001b[0;32m      7\u001b[0m \u001b[38;5;28mprint\u001b[39m(\u001b[38;5;28mtype\u001b[39m(dataset))\n\u001b[1;32m----> 8\u001b[0m \u001b[38;5;28;01mfor\u001b[39;00m data \u001b[38;5;129;01min\u001b[39;00m dataset :\n\u001b[0;32m      9\u001b[0m     \u001b[38;5;28mprint\u001b[39m(data[\u001b[38;5;124m'\u001b[39m\u001b[38;5;124mwindow\u001b[39m\u001b[38;5;124m'\u001b[39m])\n",
      "File \u001b[1;32m~\\miniconda3\\envs\\ssl\\lib\\site-packages\\torch\\utils\\data\\dataset.py:51\u001b[0m, in \u001b[0;36mDataset.__getitem__\u001b[1;34m(self, index)\u001b[0m\n\u001b[0;32m     50\u001b[0m \u001b[38;5;28;01mdef\u001b[39;00m \u001b[38;5;21m__getitem__\u001b[39m(\u001b[38;5;28mself\u001b[39m, index) \u001b[38;5;241m-\u001b[39m\u001b[38;5;241m>\u001b[39m T_co:\n\u001b[1;32m---> 51\u001b[0m     \u001b[38;5;28;01mraise\u001b[39;00m \u001b[38;5;167;01mNotImplementedError\u001b[39;00m\n",
      "\u001b[1;31mNotImplementedError\u001b[0m: "
     ]
    }
   ],
   "source": [
    "if __name__ == '__main__':\n",
    "    main()"
   ]
  },
  {
   "cell_type": "code",
   "execution_count": null,
   "metadata": {},
   "outputs": [],
   "source": []
  }
 ],
 "metadata": {
  "kernelspec": {
   "display_name": "Python 3",
   "language": "python",
   "name": "python3"
  },
  "language_info": {
   "codemirror_mode": {
    "name": "ipython",
    "version": 3
   },
   "file_extension": ".py",
   "mimetype": "text/x-python",
   "name": "python",
   "nbconvert_exporter": "python",
   "pygments_lexer": "ipython3",
   "version": "3.8.10"
  }
 },
 "nbformat": 4,
 "nbformat_minor": 5
}
